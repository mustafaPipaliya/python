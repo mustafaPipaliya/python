{
 "metadata": {
  "language_info": {
   "codemirror_mode": {
    "name": "ipython",
    "version": 3
   },
   "file_extension": ".py",
   "mimetype": "text/x-python",
   "name": "python",
   "nbconvert_exporter": "python",
   "pygments_lexer": "ipython3",
   "version": "3.7.9-final"
  },
  "orig_nbformat": 2,
  "kernelspec": {
   "name": "python3",
   "display_name": "Python 3",
   "language": "python"
  }
 },
 "nbformat": 4,
 "nbformat_minor": 2,
 "cells": [
  {
   "source": [
    "# Description\n",
    "-   Python supports five main built-in object types and an external data type that is accesible just like the built-in object types.\n",
    "-   Unlike C, which approaches the problem of variable by supporting lowest common denominator\n",
    "-   Python supports a number of high-level variables that are more practical for most program solution\n",
    "\n",
    "## Python variables are actually objects\n",
    "    -   By using objects as the basic storage level, the overall language is object-based\n",
    "    -   You can use the same methods and functions to operate on different types of objects."
   ],
   "cell_type": "markdown",
   "metadata": {}
  },
  {
   "source": [
    "# 1. Number"
   ],
   "cell_type": "markdown",
   "metadata": {}
  },
  {
   "cell_type": "code",
   "execution_count": 1,
   "metadata": {},
   "outputs": [
    {
     "output_type": "stream",
     "name": "stdout",
     "text": [
      "<class 'int'>\n"
     ]
    }
   ],
   "source": [
    "var1 = 10\n",
    "print(type(var1))"
   ]
  },
  {
   "cell_type": "code",
   "execution_count": 2,
   "metadata": {},
   "outputs": [
    {
     "output_type": "stream",
     "name": "stdout",
     "text": [
      "<class 'float'>\n"
     ]
    }
   ],
   "source": [
    "var2 = 10.0\n",
    "print(type(var2))"
   ]
  },
  {
   "cell_type": "code",
   "execution_count": 3,
   "metadata": {},
   "outputs": [
    {
     "output_type": "stream",
     "name": "stdout",
     "text": [
      "<class 'float'>\n"
     ]
    }
   ],
   "source": [
    "var3 = var1 + var2\n",
    "print(type(var3))"
   ]
  },
  {
   "source": [
    "# 2. String\n",
    "-   Can be created using '', \"\", \"\"\" \"\"\""
   ],
   "cell_type": "markdown",
   "metadata": {}
  },
  {
   "cell_type": "code",
   "execution_count": 4,
   "metadata": {},
   "outputs": [
    {
     "output_type": "stream",
     "name": "stdout",
     "text": [
      "<class 'str'>\n"
     ]
    }
   ],
   "source": [
    "var1 = \"Hello\"\n",
    "print(type(var1))"
   ]
  },
  {
   "cell_type": "code",
   "execution_count": 9,
   "metadata": {},
   "outputs": [
    {
     "output_type": "stream",
     "name": "stdout",
     "text": [
      "Hello World\n"
     ]
    }
   ],
   "source": [
    "var2 = 'Hello World'\n",
    "print(var2)"
   ]
  },
  {
   "cell_type": "code",
   "execution_count": 6,
   "metadata": {},
   "outputs": [
    {
     "output_type": "stream",
     "name": "stdout",
     "text": [
      "'Hello' World\n"
     ]
    }
   ],
   "source": [
    "var1 = \"'Hello' World\"\n",
    "print(var1)"
   ]
  },
  {
   "source": [
    "var2 = 'Hello \"World\"'\n",
    "print(var2)"
   ],
   "cell_type": "markdown",
   "metadata": {}
  },
  {
   "cell_type": "code",
   "execution_count": 10,
   "metadata": {},
   "outputs": [
    {
     "output_type": "stream",
     "name": "stdout",
     "text": [
      "\nHello\nWorld\n\n"
     ]
    }
   ],
   "source": [
    "var3 = \"\"\"\n",
    "Hello\n",
    "World\n",
    "\"\"\"\n",
    "\n",
    "print(var3)"
   ]
  },
  {
   "cell_type": "code",
   "execution_count": 13,
   "metadata": {},
   "outputs": [
    {
     "output_type": "stream",
     "name": "stdout",
     "text": [
      " \"Hello\" 'World' \n"
     ]
    }
   ],
   "source": [
    "var3 = \"\"\" \"Hello\" 'World' \"\"\"\n",
    "print(var3)"
   ]
  },
  {
   "cell_type": "code",
   "execution_count": 17,
   "metadata": {},
   "outputs": [
    {
     "output_type": "stream",
     "name": "stdout",
     "text": [
      "Hello World\nHello WorldHello WorldHello World\n"
     ]
    }
   ],
   "source": [
    "var1 = \"Hello World\"\n",
    "print(var1)\n",
    "\n",
    "var1 = var1 * 3\n",
    "print(var1)"
   ]
  },
  {
   "cell_type": "code",
   "execution_count": 18,
   "metadata": {},
   "outputs": [
    {
     "output_type": "stream",
     "name": "stdout",
     "text": [
      "Hello World\n"
     ]
    }
   ],
   "source": [
    "var1 = \"Hello \"\n",
    "var1 = var1 + \"World\"\n",
    "\n",
    "print(var1)"
   ]
  },
  {
   "cell_type": "code",
   "execution_count": 19,
   "metadata": {},
   "outputs": [
    {
     "output_type": "execute_result",
     "data": {
      "text/plain": [
       "11"
      ]
     },
     "metadata": {},
     "execution_count": 19
    }
   ],
   "source": [
    "len(var1)"
   ]
  },
  {
   "cell_type": "code",
   "execution_count": 20,
   "metadata": {},
   "outputs": [
    {
     "output_type": "stream",
     "name": "stdout",
     "text": [
      "Hello World\n"
     ]
    }
   ],
   "source": [
    "print(var1)"
   ]
  },
  {
   "cell_type": "code",
   "execution_count": 21,
   "metadata": {},
   "outputs": [
    {
     "output_type": "execute_result",
     "data": {
      "text/plain": [
       "'H'"
      ]
     },
     "metadata": {},
     "execution_count": 21
    }
   ],
   "source": [
    "var1[0]"
   ]
  },
  {
   "cell_type": "code",
   "execution_count": 22,
   "metadata": {},
   "outputs": [
    {
     "output_type": "execute_result",
     "data": {
      "text/plain": [
       "'d'"
      ]
     },
     "metadata": {},
     "execution_count": 22
    }
   ],
   "source": [
    "var1[-1]"
   ]
  },
  {
   "cell_type": "code",
   "execution_count": 34,
   "metadata": {},
   "outputs": [
    {
     "output_type": "stream",
     "name": "stdout",
     "text": [
      "H\ne\nl\nl\no\n \nW\no\nr\nl\nd\n"
     ]
    }
   ],
   "source": [
    "for i in range(0, len(var1) , 1):\n",
    "    print(var1[i])"
   ]
  },
  {
   "cell_type": "code",
   "execution_count": 37,
   "metadata": {},
   "outputs": [
    {
     "output_type": "stream",
     "name": "stdout",
     "text": [
      "Hello World-Hello World\n"
     ]
    }
   ],
   "source": [
    "print(var1 , var1,  sep = \"-\")"
   ]
  },
  {
   "cell_type": "code",
   "execution_count": 41,
   "metadata": {},
   "outputs": [
    {
     "output_type": "stream",
     "name": "stdout",
     "text": [
      "My message is Hello World\nMy message is Hello World\nMy message is Hello World\n"
     ]
    }
   ],
   "source": [
    "print(\"My message is\", var1)\n",
    "print(\"My message is %s\"%(var1))\n",
    "print(f\"My message is {var1}\")"
   ]
  },
  {
   "cell_type": "code",
   "execution_count": 40,
   "metadata": {},
   "outputs": [
    {
     "output_type": "stream",
     "name": "stdout",
     "text": [
      "var1 = Hello World, var2 = Hello World, var3 =  \"Hello\" 'World' \n"
     ]
    }
   ],
   "source": [
    "print(f\"var1 = {var1}, var2 = {var2}, var3 = {var3}\")"
   ]
  },
  {
   "source": [
    "# 3. List"
   ],
   "cell_type": "markdown",
   "metadata": {}
  },
  {
   "cell_type": "code",
   "execution_count": 43,
   "metadata": {},
   "outputs": [],
   "source": [
    "var1 = [1, 2,2 ,3, \"Hell0\", 21.21, [1 ,2 ,3]]"
   ]
  },
  {
   "cell_type": "code",
   "execution_count": 48,
   "metadata": {},
   "outputs": [
    {
     "output_type": "execute_result",
     "data": {
      "text/plain": [
       "'H'"
      ]
     },
     "metadata": {},
     "execution_count": 48
    }
   ],
   "source": [
    "var1[4][]"
   ]
  },
  {
   "cell_type": "code",
   "execution_count": 44,
   "metadata": {},
   "outputs": [
    {
     "output_type": "execute_result",
     "data": {
      "text/plain": [
       "7"
      ]
     },
     "metadata": {},
     "execution_count": 44
    }
   ],
   "source": [
    "len(var1)"
   ]
  },
  {
   "cell_type": "code",
   "execution_count": 45,
   "metadata": {},
   "outputs": [
    {
     "output_type": "stream",
     "name": "stdout",
     "text": [
      "1\n2\n2\n3\nHell0\n21.21\n[1, 2, 3]\n"
     ]
    }
   ],
   "source": [
    "for i in range(len(var1)):\n",
    "    print(var1[i])"
   ]
  },
  {
   "cell_type": "code",
   "execution_count": 46,
   "metadata": {},
   "outputs": [
    {
     "output_type": "stream",
     "name": "stdout",
     "text": [
      "1\n2\n2\n3\nHell0\n21.21\n[1, 2, 3]\n"
     ]
    }
   ],
   "source": [
    "for value in var1:\n",
    "    print(value)"
   ]
  },
  {
   "cell_type": "code",
   "execution_count": 52,
   "metadata": {},
   "outputs": [
    {
     "output_type": "execute_result",
     "data": {
      "text/plain": [
       "'ll0'"
      ]
     },
     "metadata": {},
     "execution_count": 52
    }
   ],
   "source": [
    "var1[4][2:]"
   ]
  },
  {
   "cell_type": "code",
   "execution_count": 53,
   "metadata": {},
   "outputs": [],
   "source": [
    "var2 = var1"
   ]
  },
  {
   "cell_type": "code",
   "execution_count": 54,
   "metadata": {},
   "outputs": [
    {
     "output_type": "execute_result",
     "data": {
      "text/plain": [
       "True"
      ]
     },
     "metadata": {},
     "execution_count": 54
    }
   ],
   "source": [
    "var2 is var1"
   ]
  },
  {
   "cell_type": "code",
   "execution_count": 55,
   "metadata": {},
   "outputs": [],
   "source": [
    "var2 = var1.copy()"
   ]
  },
  {
   "cell_type": "code",
   "execution_count": 56,
   "metadata": {},
   "outputs": [
    {
     "output_type": "execute_result",
     "data": {
      "text/plain": [
       "False"
      ]
     },
     "metadata": {},
     "execution_count": 56
    }
   ],
   "source": [
    "var2 is var1"
   ]
  },
  {
   "cell_type": "code",
   "execution_count": 58,
   "metadata": {},
   "outputs": [
    {
     "output_type": "stream",
     "name": "stdout",
     "text": [
      "var1 : [1, 2, 2, 3, 4, 5], var2 : [1, 2, 2, 3, 4, 5]\nTrue\n"
     ]
    }
   ],
   "source": [
    "var1 = [1,2,2,3,4,4]\n",
    "\n",
    "var2 = var1\n",
    "\n",
    "var2[-1] = 5\n",
    "\n",
    "print(f\"var1 : {var1}, var2 : {var2}\")\n",
    "print(var1 is var2)"
   ]
  },
  {
   "cell_type": "code",
   "execution_count": 59,
   "metadata": {},
   "outputs": [
    {
     "output_type": "stream",
     "name": "stdout",
     "text": [
      "False\nvar1 : [1, 2, 2, 3, 4, 5, 65, 77], var2 = [1, 2, 2, 3, 4, 5, 65, 5]\n"
     ]
    }
   ],
   "source": [
    "var1 = [1,2,2,3,4,5,65,77]\n",
    "var2 = var1.copy()\n",
    "\n",
    "print(var2 is var1)\n",
    "var2[-1] = 5\n",
    "\n",
    "print(f\"var1 : {var1}, var2 = {var2}\")"
   ]
  },
  {
   "cell_type": "code",
   "execution_count": 60,
   "metadata": {},
   "outputs": [
    {
     "output_type": "stream",
     "name": "stdout",
     "text": [
      "True\nFalse\nvar1 : [1, 2, 2, 3, 4, 5, 65, 77], var2 = [1, 2, 2, 3, 4, 5, 65, 5]\n"
     ]
    }
   ],
   "source": [
    "var1 = [1,2,2,3,4,5,65,77]\n",
    "var2 = var1\n",
    "print(var2 is var1)\n",
    "var2 = var1.copy()\n",
    "\n",
    "print(var2 is var1)\n",
    "var2[-1] = 5\n",
    "\n",
    "print(f\"var1 : {var1}, var2 = {var2}\")"
   ]
  },
  {
   "cell_type": "code",
   "execution_count": 64,
   "metadata": {},
   "outputs": [
    {
     "output_type": "execute_result",
     "data": {
      "text/plain": [
       "(1, 2, 3, 4, 5, 6, 21, 1, 1, [1, 2, 3])"
      ]
     },
     "metadata": {},
     "execution_count": 64
    }
   ],
   "source": [
    "var1 = (1,2,3,4,5,6,21,1,1,[1,2,3])\n",
    "var1"
   ]
  },
  {
   "cell_type": "code",
   "execution_count": 66,
   "metadata": {},
   "outputs": [
    {
     "output_type": "stream",
     "name": "stdout",
     "text": [
      "10 20\n"
     ]
    }
   ],
   "source": [
    "x, y = (10 ,20)\n",
    "print(x,y)"
   ]
  },
  {
   "source": [
    "var1[0] = 2"
   ],
   "cell_type": "markdown",
   "metadata": {}
  },
  {
   "source": [
    "# 5. Dictionary"
   ],
   "cell_type": "markdown",
   "metadata": {}
  },
  {
   "cell_type": "code",
   "execution_count": 67,
   "metadata": {},
   "outputs": [
    {
     "output_type": "execute_result",
     "data": {
      "text/plain": [
       "{'price': 10.0, 'size': 100, 'area': 'Dahod', 2: [1, 2, 3, 4]}"
      ]
     },
     "metadata": {},
     "execution_count": 67
    }
   ],
   "source": [
    "housing_data = {\n",
    "    'price': 10.0,\n",
    "    'size' : 100,\n",
    "    'area': \"Dahod\",\n",
    "    2: [1,2,3,4,], \n",
    "}\n",
    "\n",
    "housing_data"
   ]
  },
  {
   "cell_type": "code",
   "execution_count": 68,
   "metadata": {},
   "outputs": [
    {
     "output_type": "stream",
     "name": "stdout",
     "text": [
      "price 10.0\nsize 100\narea Dahod\n2 [1, 2, 3, 4]\n"
     ]
    }
   ],
   "source": [
    "for key,value in housing_data.items():\n",
    "    print(key, value)"
   ]
  },
  {
   "cell_type": "code",
   "execution_count": 69,
   "metadata": {},
   "outputs": [
    {
     "output_type": "stream",
     "name": "stdout",
     "text": [
      "10.0\n100\nDahod\n[1, 2, 3, 4]\n"
     ]
    }
   ],
   "source": [
    "for key in housing_data.keys():\n",
    "    print(housing_data[key])"
   ]
  },
  {
   "cell_type": "code",
   "execution_count": 70,
   "metadata": {},
   "outputs": [
    {
     "output_type": "stream",
     "name": "stdout",
     "text": [
      "10.0\n100\nDahod\n[1, 2, 3, 4]\n"
     ]
    }
   ],
   "source": [
    "for value in housing_data.values():\n",
    "    print(value)"
   ]
  },
  {
   "cell_type": "code",
   "execution_count": null,
   "metadata": {},
   "outputs": [],
   "source": []
  }
 ]
}