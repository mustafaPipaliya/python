{
 "metadata": {
  "language_info": {
   "codemirror_mode": {
    "name": "ipython",
    "version": 3
   },
   "file_extension": ".py",
   "mimetype": "text/x-python",
   "name": "python",
   "nbconvert_exporter": "python",
   "pygments_lexer": "ipython3",
   "version": "3.9.5"
  },
  "orig_nbformat": 4,
  "kernelspec": {
   "name": "python3",
   "display_name": "Python 3.9.5 64-bit"
  },
  "interpreter": {
   "hash": "a12d694c3ccac42055183a0ad11e659c6a2db5c6555ad2c8919d5814fd4e404f"
  }
 },
 "nbformat": 4,
 "nbformat_minor": 2,
 "cells": [
  {
   "source": [
    "# 27 MAY"
   ],
   "cell_type": "markdown",
   "metadata": {}
  },
  {
   "cell_type": "code",
   "execution_count": 7,
   "metadata": {},
   "outputs": [
    {
     "output_type": "stream",
     "name": "stdout",
     "text": [
      "128\n"
     ]
    }
   ],
   "source": [
    "#Write a python code in which you write a function seventhPower(number) this function calculates the 7th power of the number\n",
    "def seventhpower(number):\n",
    "    num=number ** 7\n",
    "    print(num)\n",
    "a=int(input(\"enter the number\"))\n",
    "seventhpower(a)"
   ]
  },
  {
   "cell_type": "code",
   "execution_count": 13,
   "metadata": {},
   "outputs": [
    {
     "output_type": "stream",
     "name": "stdout",
     "text": [
      "its a pythogorian trplet\n"
     ]
    }
   ],
   "source": [
    "#CLASS:Write a function in python which accepts three sides of a traingle and check if it is a pythogorian triplet or NOT\n",
    "def threesides(s1,s2,s3):\n",
    "    if s1*2 + s2*2 == s3*2:\n",
    "        print(\"its a pythogorian trplet\")\n",
    "    else:\n",
    "        print(\"not triplet\")\n",
    "threesides(45,45,90)"
   ]
  },
  {
   "source": [
    "# 31st MAY"
   ],
   "cell_type": "markdown",
   "metadata": {}
  },
  {
   "cell_type": "code",
   "execution_count": 5,
   "metadata": {},
   "outputs": [
    {
     "output_type": "stream",
     "name": "stdout",
     "text": [
      "hello pipaliya\n"
     ]
    }
   ],
   "source": [
    "def mustafa(name):\n",
    "    print(\"hello\",name)\n",
    "mustafa(\"pipaliya\")\n"
   ]
  },
  {
   "source": [
    "# 2nd JUNE"
   ],
   "cell_type": "markdown",
   "metadata": {}
  },
  {
   "cell_type": "code",
   "execution_count": 15,
   "metadata": {},
   "outputs": [
    {
     "output_type": "stream",
     "name": "stdout",
     "text": [
      "not equilateral\n"
     ]
    }
   ],
   "source": [
    "#python code with a function check equilateralTraingle()\n",
    "def equilateralTraingle(s1,s2,s3):\n",
    "    if s1==s2==s3:\n",
    "        print(\"equilateral triangle\")\n",
    "    else:\n",
    "        print(\"not equilateral\")\n",
    "equilateralTraingle(45,45,46)\n",
    "\n"
   ]
  },
  {
   "cell_type": "code",
   "execution_count": 20,
   "metadata": {},
   "outputs": [
    {
     "output_type": "execute_result",
     "data": {
      "text/plain": [
       "'its a special number'"
      ]
     },
     "metadata": {},
     "execution_count": 20
    }
   ],
   "source": [
    "#python code with folowing function as:checkSpecialNumber(number): the number is special number whose square is divisible by 2\n",
    "def checkSpecialNumber(number):\n",
    "    if (number ** 2) % 2==0:\n",
    "        return \"its a special number\"\n",
    "    else:\n",
    "        return \" its not special number\"\n",
    "checkSpecialNumber(2)"
   ]
  },
  {
   "cell_type": "code",
   "execution_count": 23,
   "metadata": {},
   "outputs": [
    {
     "output_type": "execute_result",
     "data": {
      "text/plain": [
       "(' its not special number', 1.6094379124341003)"
      ]
     },
     "metadata": {},
     "execution_count": 23
    }
   ],
   "source": [
    "import math\n",
    "def checkSpecialNumber(number):\n",
    "    if (number ** 2) % 2==0:\n",
    "        return (\"its a special number\",\"so sqaure root is: \",math.sqrt(number))\n",
    "    else:\n",
    "        return (\" its not special number\",math.log(number))\n",
    "checkSpecialNumber(5)"
   ]
  },
  {
   "cell_type": "code",
   "execution_count": null,
   "metadata": {},
   "outputs": [],
   "source": [
    "#QUESTION:Write a program which uses a while loop to sum the squares of integers (starting from 1) until the total exceeds 200.\n",
    "#print the final total and the last number to be squared and added.\n",
    "total_sum = 0\n",
    "n = 1\n",
    "\n",
    "while total_sum < 200:\n",
    "    total_sum = total_sum + n ** 2\n",
    "    #total_sum += n ** 2\n",
    "    n += 1\n",
    "    \n",
    "print(total_sum)"
   ]
  }
 ]
}