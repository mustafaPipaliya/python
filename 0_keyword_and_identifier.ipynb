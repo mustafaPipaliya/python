{
 "metadata": {
  "language_info": {
   "codemirror_mode": {
    "name": "ipython",
    "version": 3
   },
   "file_extension": ".py",
   "mimetype": "text/x-python",
   "name": "python",
   "nbconvert_exporter": "python",
   "pygments_lexer": "ipython3",
   "version": "3.7.9-final"
  },
  "orig_nbformat": 2,
  "kernelspec": {
   "name": "python3",
   "display_name": "Python 3",
   "language": "python"
  }
 },
 "nbformat": 4,
 "nbformat_minor": 2,
 "cells": [
  {
   "source": [
    "# Identifier\n",
    "-   Case Sensitive\n",
    "-   First letter should be underscore or alphabet\n",
    "-   Only _ special character is allowed\n",
    "-   Number is allowed by not in the first position.\n",
    "-   Cannot be same as keyword\n",
    "-   Can be of any length"
   ],
   "cell_type": "markdown",
   "metadata": {}
  },
  {
   "source": [
    "1numbewr = 1   # This is not allowed"
   ],
   "cell_type": "markdown",
   "metadata": {}
  },
  {
   "cell_type": "code",
   "execution_count": 9,
   "metadata": {},
   "outputs": [],
   "source": [
    "_number = 1"
   ]
  },
  {
   "cell_type": "code",
   "execution_count": 10,
   "metadata": {},
   "outputs": [],
   "source": [
    "Number = 1"
   ]
  },
  {
   "source": [
    "# This is a comment\n",
    "\n",
    "\n",
    "#Doc String\n",
    "\"\"\"\n",
    "This function is used for the demo of the comment.\n",
    "\n",
    "It is \n",
    "\"\"\"\n",
    "\n",
    "# dsjflkasd\n",
    "# jgkjsdfkl\n",
    "# dsfa\n",
    "#\n",
    "\n",
    "#"
   ],
   "cell_type": "code",
   "metadata": {},
   "execution_count": 12,
   "outputs": [
    {
     "output_type": "execute_result",
     "data": {
      "text/plain": [
       "'\\nThis function is used for the demo of the comment.\\n\\nIt is \\n'"
      ]
     },
     "metadata": {},
     "execution_count": 12
    }
   ]
  },
  {
   "cell_type": "code",
   "execution_count": 14,
   "metadata": {},
   "outputs": [
    {
     "output_type": "stream",
     "name": "stdout",
     "text": [
      "30\n"
     ]
    }
   ],
   "source": [
    "a =  10 + 20\n",
    "print(a)"
   ]
  },
  {
   "cell_type": "code",
   "execution_count": 17,
   "metadata": {},
   "outputs": [
    {
     "output_type": "execute_result",
     "data": {
      "text/plain": [
       "30"
      ]
     },
     "metadata": {},
     "execution_count": 17
    }
   ],
   "source": [
    "a = 10 \\\n",
    "    + 20\n",
    "a"
   ]
  },
  {
   "cell_type": "code",
   "execution_count": null,
   "metadata": {},
   "outputs": [],
   "source": [
    " int number = 10;"
   ]
  }
 ]
}