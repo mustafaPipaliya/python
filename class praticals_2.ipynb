{
 "metadata": {
  "language_info": {
   "codemirror_mode": {
    "name": "ipython",
    "version": 3
   },
   "file_extension": ".py",
   "mimetype": "text/x-python",
   "name": "python",
   "nbconvert_exporter": "python",
   "pygments_lexer": "ipython3",
   "version": "3.9.5"
  },
  "orig_nbformat": 4,
  "kernelspec": {
   "name": "python3",
   "display_name": "Python 3.9.5 64-bit"
  },
  "interpreter": {
   "hash": "a12d694c3ccac42055183a0ad11e659c6a2db5c6555ad2c8919d5814fd4e404f"
  }
 },
 "nbformat": 4,
 "nbformat_minor": 2,
 "cells": [
  {
   "source": [
    "# 10 MAY"
   ],
   "cell_type": "markdown",
   "metadata": {}
  },
  {
   "cell_type": "code",
   "execution_count": 4,
   "metadata": {},
   "outputs": [
    {
     "output_type": "stream",
     "name": "stdout",
     "text": [
      "15\n"
     ]
    }
   ],
   "source": [
    "#write a python code to declare the list of 5 numbers and perform the addition of all the number in the list\n",
    "mylist=[1,2,3,4,5]\n",
    "addition=0\n",
    "index=0\n",
    "while index < 5:\n",
    "    addition=addition + mylist[index]\n",
    "    index=index+1\n",
    "print(addition)"
   ]
  },
  {
   "source": [
    "# 11 MAY"
   ],
   "cell_type": "markdown",
   "metadata": {}
  },
  {
   "cell_type": "code",
   "execution_count": 9,
   "metadata": {},
   "outputs": [
    {
     "output_type": "stream",
     "name": "stdout",
     "text": [
      "[24, 34, 56, 38, 25, 27]\n[24, 34, 56, 38, 25, 27]\n[24, 34, 56, 38, 25, 27]\n[24, 34, 56, 38, 25, 27]\n"
     ]
    }
   ],
   "source": [
    "#Write a Python code to declare the list of 6 numbers and display even numbers from the list\n",
    "numbers = [24,34,56,38,25,27]\n",
    "for i in numbers:\n",
    "    if i % 2 == 0:\n",
    "        print(numbers)  #doubt"
   ]
  },
  {
   "cell_type": "code",
   "execution_count": 13,
   "metadata": {},
   "outputs": [
    {
     "output_type": "stream",
     "name": "stdout",
     "text": [
      "5\n"
     ]
    }
   ],
   "source": [
    "#extract the vowels\n",
    "name =\"QutubMinar in delhi\"\n",
    "count=0\n",
    "for vowels in name:\n",
    "    if vowels==\"a\" or vowels==\"e\" or vowels ==\"i\":\n",
    "        count=count+1\n",
    "print(count)\n"
   ]
  },
  {
   "cell_type": "code",
   "execution_count": 15,
   "metadata": {},
   "outputs": [
    {
     "output_type": "stream",
     "name": "stdout",
     "text": [
      "2\n"
     ]
    }
   ],
   "source": [
    "city=\"dahod\"\n",
    "count=0\n",
    "for c in city:\n",
    "    if c==\"d\":\n",
    "        count=count+1\n",
    "print(count)"
   ]
  },
  {
   "cell_type": "code",
   "execution_count": 21,
   "metadata": {},
   "outputs": [
    {
     "output_type": "stream",
     "name": "stdout",
     "text": [
      "mango\nbanana\napple\n"
     ]
    }
   ],
   "source": [
    "fruits=['mango','banana','apple']\n",
    "count=0\n",
    "for fruit in fruits:\n",
    "    print(fruit)"
   ]
  },
  {
   "source": [
    "# 18 MAY"
   ],
   "cell_type": "markdown",
   "metadata": {}
  },
  {
   "cell_type": "code",
   "execution_count": 3,
   "metadata": {},
   "outputs": [
    {
     "output_type": "stream",
     "name": "stdout",
     "text": [
      "1\n2\n3\n4\n5\n6\n7\n"
     ]
    }
   ],
   "source": [
    "#write a python code to accept a string from user\n",
    "#and count how many numbers are present in the string.\n",
    "count=0\n",
    "string=input(\"enter string\")\n",
    "for i in string:\n",
    "    count=count+1\n",
    "    print(count)"
   ]
  },
  {
   "cell_type": "code",
   "execution_count": 3,
   "metadata": {},
   "outputs": [
    {
     "output_type": "stream",
     "name": "stdout",
     "text": [
      "120\n"
     ]
    }
   ],
   "source": [
    "#factorial of number using for loop\n",
    "factorial=1\n",
    "num=int(input(\"enter the number\"))\n",
    "for num in range(1,num+1):\n",
    "    factorial=factorial*num\n",
    "print(factorial)\n"
   ]
  },
  {
   "cell_type": "code",
   "execution_count": 1,
   "metadata": {},
   "outputs": [
    {
     "output_type": "stream",
     "name": "stdout",
     "text": [
      "120\n"
     ]
    }
   ],
   "source": [
    "factorial=1\n",
    "i=1\n",
    "num=int(input(\"enter the number\"))\n",
    "while i <= num:\n",
    "    factorial=factorial*i\n",
    "    i=i+1\n",
    "print(factorial)"
   ]
  },
  {
   "cell_type": "code",
   "execution_count": 7,
   "metadata": {},
   "outputs": [
    {
     "output_type": "stream",
     "name": "stdout",
     "text": [
      "105\n"
     ]
    }
   ],
   "source": [
    " #Write a python code to accept the number and find the multiplication of only odd numbers between 1 to that number\n",
    "\n",
    " num=int(input(\"enter the number\"))\n",
    " multiplication=1\n",
    " for num in range(1,num+1):\n",
    "     if num % 2 != 0:\n",
    "         multiplication=multiplication*num\n",
    "print(multiplication)"
   ]
  },
  {
   "cell_type": "code",
   "execution_count": 9,
   "metadata": {},
   "outputs": [
    {
     "output_type": "stream",
     "name": "stdout",
     "text": [
      "Must@f@ pip@liy@\n"
     ]
    }
   ],
   "source": [
    "#Write a python code to read a string from user and replace character 'a' from the string with '$'.\n",
    "name=\"Mustafa pipaliya\"\n",
    "rep=name.replace(\"a\",\"@\")\n",
    "print(rep)\n"
   ]
  },
  {
   "cell_type": "code",
   "execution_count": null,
   "metadata": {},
   "outputs": [],
   "source": []
  }
 ]
}