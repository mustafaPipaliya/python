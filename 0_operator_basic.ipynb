{
 "metadata": {
  "language_info": {
   "codemirror_mode": {
    "name": "ipython",
    "version": 3
   },
   "file_extension": ".py",
   "mimetype": "text/x-python",
   "name": "python",
   "nbconvert_exporter": "python",
   "pygments_lexer": "ipython3",
   "version": "3.7.9-final"
  },
  "orig_nbformat": 2,
  "kernelspec": {
   "name": "python3",
   "display_name": "Python 3",
   "language": "python"
  }
 },
 "nbformat": 4,
 "nbformat_minor": 2,
 "cells": [
  {
   "source": [
    "# Things to learn\n",
    "\n",
    "-   Precedence determines which operator is performed first in an expression with more than one operators with different precedence\n",
    "-   Associativity is used when two operators of same precedence appear in an expression."
   ],
   "cell_type": "markdown",
   "metadata": {}
  },
  {
   "source": [
    "# 1. Arithmetic Operators\n",
    "-   Arithmetic Operator are used with numeric values to perform common mathematical operations\n",
    "<img src=\"images/operators/arithmetic_operator.png\">"
   ],
   "cell_type": "markdown",
   "metadata": {}
  },
  {
   "source": [
    "# 2. Comparision Operators\n",
    "-   Compare two values\n",
    "\n",
    "<img src=\"images/operators/comparision_operator.png\">"
   ],
   "cell_type": "markdown",
   "metadata": {}
  },
  {
   "source": [
    "# 3. Assignment Operators\n",
    "- Used for assigning or storing the value\n",
    "<img src=\"images/operators/assignment_operator.png\">"
   ],
   "cell_type": "markdown",
   "metadata": {}
  },
  {
   "source": [
    "# 4. Logical Operators\n",
    "-   Used to combine conditional statements\n",
    "<img src=\"images/operators/logical_operator.png\">"
   ],
   "cell_type": "markdown",
   "metadata": {}
  },
  {
   "source": [
    "# 5. Identity Operator\n",
    "-   Used to compare the objects, not if they are equal, but if they are actually the same object, with the same memory location\n",
    "\n",
    "<img src=\"images/operators/identity_operator.png\">"
   ],
   "cell_type": "markdown",
   "metadata": {}
  },
  {
   "source": [
    "# Variables and Objects\n",
    "-   variable as being a label, pointer or reference to an object which lives elsewhere in memory.\n",
    "-   Python Variable are dynamic, untyped and are references to objects.\n",
    "-   multiple variables can reference the same object.\n",
    "<img src=\"images/variables/variable.png\">\n",
    "<br> https://realpython.com/python-pep8/#:~:text=PEP%208%2C%20sometimes%20spelled%20PEP8,and%20consistency%20of%20Python%20code.\n"
   ],
   "cell_type": "markdown",
   "metadata": {}
  },
  {
   "cell_type": "code",
   "execution_count": 13,
   "metadata": {},
   "outputs": [
    {
     "output_type": "stream",
     "name": "stdout",
     "text": [
      "True\ntemp :  [20, 20, 30] \ntemp1 :  [20, 20, 30]\n"
     ]
    }
   ],
   "source": [
    "temp = [10,20,30]\n",
    "temp1 = temp\n",
    "print(temp1 is temp)\n",
    "\n",
    "temp1[0] = 20\n",
    "\n",
    "print(\"temp : \",temp,\"\\ntemp1 : \",temp1)"
   ]
  },
  {
   "source": [
    "# 6. Membership Operators\n",
    "- Used to test if a sequence is presented in object\n",
    "\n",
    "<img src=\"images/operators/membership_operator.png\">"
   ],
   "cell_type": "markdown",
   "metadata": {}
  },
  {
   "source": [
    "https://pynative.com/python-operators-and-expression-quiz/\n"
   ],
   "cell_type": "markdown",
   "metadata": {}
  },
  {
   "source": [
    "# Parantheses\n",
    "-   Use of Parantheses (), does not automatically imply the creation of a tuple\n",
    "-   Parantheses can be used to modify the precedence of operator in expression."
   ],
   "cell_type": "markdown",
   "metadata": {}
  },
  {
   "source": [
    "# Operator Precedence\n",
    "-   (Upper group has higher Precedence than the lower one)\n",
    "\n",
    "<img src=\"images/associativity_and_precedence/first_half.png\">\n",
    "<img src=\"images/associativity_and_precedence/second_half.png\">"
   ],
   "cell_type": "markdown",
   "metadata": {}
  },
  {
   "source": [
    "# Associativity of Python Operators\n",
    "\n",
    "-   We can see in the above table that more than one operator exists in the same group. These operators have the same precedence.\n",
    "\n",
    "-   When two operators have the same precedence, associativity helps to determine the order of operations.\n",
    "\n",
    "-   Associativity is the order in which an expression is evaluated that has multiple operators of the same precedence. Almost all the operators have left-to-right associativity.\n",
    "\n",
    "-   For example, multiplication and floor division have the same precedence. Hence, if both of them are present in an expression, the left one is evaluated first."
   ],
   "cell_type": "markdown",
   "metadata": {}
  },
  {
   "source": [
    "# Non associative operators\n",
    "-   Some operators like assignment operators and comparison operators do not have associativity in Python. -    There are separate rules for sequences of this kind of operator and cannot be expressed as associativity.\n",
    "\n",
    "-   For example, x < y < z neither means (x < y) < z nor x < (y < z). x < y < z is equivalent to x < y and y < z, and is evaluated from left-to-right.\n",
    "\n",
    "-   Furthermore, while chaining of assignments like x = y = z = 1 is perfectly valid, x = y = z+= 2 will result in error."
   ],
   "cell_type": "markdown",
   "metadata": {}
  },
  {
   "source": [
    "# Exponent operator ** has right-to-left associativity in Python."
   ],
   "cell_type": "markdown",
   "metadata": {}
  },
  {
   "cell_type": "code",
   "execution_count": null,
   "metadata": {},
   "outputs": [],
   "source": [
    "https://study.com/academy/practice/quiz-worksheet-operator-of-precedence-in-python.html"
   ]
  }
 ]
}