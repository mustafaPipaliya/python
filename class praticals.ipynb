{
 "metadata": {
  "language_info": {
   "codemirror_mode": {
    "name": "ipython",
    "version": 3
   },
   "file_extension": ".py",
   "mimetype": "text/x-python",
   "name": "python",
   "nbconvert_exporter": "python",
   "pygments_lexer": "ipython3",
   "version": "3.9.5"
  },
  "orig_nbformat": 4,
  "kernelspec": {
   "name": "python3",
   "display_name": "Python 3.9.5 64-bit"
  },
  "interpreter": {
   "hash": "a12d694c3ccac42055183a0ad11e659c6a2db5c6555ad2c8919d5814fd4e404f"
  }
 },
 "nbformat": 4,
 "nbformat_minor": 2,
 "cells": [
  {
   "source": [
    "# 22 march "
   ],
   "cell_type": "markdown",
   "metadata": {}
  },
  {
   "cell_type": "code",
   "execution_count": 13,
   "metadata": {},
   "outputs": [
    {
     "output_type": "stream",
     "name": "stdout",
     "text": [
      "2021-06-18 17:23:26.442617\n6\n2021\n17\n"
     ]
    }
   ],
   "source": [
    "import datetime\n",
    "currentdate=datetime.datetime.now()\n",
    "print(currentdate)\n",
    "print(currentdate.month)\n",
    "print(currentdate.year)\n",
    "print(currentdate.hour)\n"
   ]
  },
  {
   "cell_type": "code",
   "execution_count": 25,
   "metadata": {},
   "outputs": [
    {
     "output_type": "stream",
     "name": "stdout",
     "text": [
      "1999-06-19 00:00:00\n"
     ]
    }
   ],
   "source": [
    "#import datetime\n",
    "birthday=datetime.datetime(1999,6,19)\n",
    "print(birthday)"
   ]
  },
  {
   "cell_type": "code",
   "execution_count": 17,
   "metadata": {},
   "outputs": [
    {
     "output_type": "stream",
     "name": "stdout",
     "text": [
      "Fri Jun 18 17:23:26 2021\n"
     ]
    }
   ],
   "source": [
    "#strftime= string format time\n",
    "#month= %B, date=%d, day=%A, weeek=%w, year(full)=%Y, year(short cut for example 21(2021))= %y, AM/PM=%p, full date year time=%c.  we have to write all % element in \"\". \n",
    "month=currentdate.strftime(\"%c\")\n",
    "print(month)"
   ]
  },
  {
   "cell_type": "code",
   "execution_count": 19,
   "metadata": {},
   "outputs": [
    {
     "output_type": "stream",
     "name": "stdout",
     "text": [
      "6.745368781616021\n5.759687576887954e+19\n3.817712325956905\n46\n45\n"
     ]
    }
   ],
   "source": [
    "import math\n",
    "n=45.5\n",
    "print(math.sqrt(n))\n",
    "print(math.exp(n))\n",
    "print(math.log(n))\n",
    "print(math.ceil(n))\n",
    "print(math.floor(n))\n",
    "\n"
   ]
  },
  {
   "cell_type": "code",
   "execution_count": null,
   "metadata": {},
   "outputs": [],
   "source": [
    "print(math.pow(2,4))\n",
    "print(math.pi)\n",
    "print(math.e)\n",
    "print(math.factorial(5))\n"
   ]
  },
  {
   "source": [
    "# 23 march"
   ],
   "cell_type": "markdown",
   "metadata": {}
  },
  {
   "cell_type": "code",
   "execution_count": 8,
   "metadata": {},
   "outputs": [
    {
     "output_type": "stream",
     "name": "stdout",
     "text": [
      "(45, 56, 65)\n45\n(56, 65)\n"
     ]
    }
   ],
   "source": [
    "n=45,56,65\n",
    "print(n)\n",
    "print(n[0])\n",
    "print(n[1:])\n"
   ]
  },
  {
   "cell_type": "code",
   "execution_count": 9,
   "metadata": {},
   "outputs": [
    {
     "output_type": "stream",
     "name": "stdout",
     "text": [
      "['my', 'name', 'is', 'mustafa']\n['my', 'name', 'is', 'mustafa', 'pipaliya']\n"
     ]
    }
   ],
   "source": [
    "#list\n",
    "mylist=[\"my\",\"name\",\"is\",\"mustafa\"]\n",
    "print(mylist)\n",
    "mylist.append(\"pipaliya\")\n",
    "print(mylist)\n"
   ]
  },
  {
   "cell_type": "code",
   "execution_count": 10,
   "metadata": {},
   "outputs": [
    {
     "output_type": "stream",
     "name": "stdout",
     "text": [
      "my name is pipaliya \n"
     ]
    }
   ],
   "source": [
    "#use replace function\n",
    "name=\"my name is mustafa \"\n",
    "print(name.replace(\"mustafa\",\"pipaliya\"))\n"
   ]
  },
  {
   "cell_type": "code",
   "execution_count": 11,
   "metadata": {},
   "outputs": [
    {
     "output_type": "stream",
     "name": "stdout",
     "text": [
      "University\n"
     ]
    }
   ],
   "source": [
    "#Write a python code to declare the string as \" Symbiosis University\" and extract the string University from the entire string\n",
    "\n",
    "#declare string\n",
    "c=\"Symbiosis University\"\n",
    "print(c[10:21])"
   ]
  },
  {
   "cell_type": "code",
   "execution_count": 12,
   "metadata": {},
   "outputs": [
    {
     "output_type": "stream",
     "name": "stdout",
     "text": [
      "\n"
     ]
    }
   ],
   "source": [
    "#question 2 : input name from user and print 1st three letters of the name\n",
    "name=input(\"enter the name\")\n",
    "print(name[0:3])\n",
    "        "
   ]
  },
  {
   "source": [
    "# 2nd APRIL DICTIONARY"
   ],
   "cell_type": "markdown",
   "metadata": {}
  },
  {
   "cell_type": "code",
   "execution_count": 16,
   "metadata": {},
   "outputs": [
    {
     "output_type": "stream",
     "name": "stdout",
     "text": [
      "{'name': 'mustafa', 'class': 'python', 'collage': 'symbiosis'}\ndict_keys(['name', 'class', 'collage'])\ndict_values(['mustafa', 'python', 'symbiosis'])\nmustafa\nsymbiosis\n"
     ]
    }
   ],
   "source": [
    "mydictionary={\"name\":\"mustafa\",\"class\":\"python\",\"collage\":\"symbiosis\"}\n",
    "print(mydictionary)\n",
    "print(mydictionary.keys())\n",
    "print(mydictionary.values())\n",
    "print(mydictionary[\"name\"])\n",
    "print(mydictionary[\"collage\"])\n"
   ]
  },
  {
   "source": [
    "# 16 APRIL "
   ],
   "cell_type": "markdown",
   "metadata": {}
  },
  {
   "cell_type": "code",
   "execution_count": 3,
   "metadata": {},
   "outputs": [
    {
     "output_type": "stream",
     "name": "stdout",
     "text": [
      "120.0\neligible\n"
     ]
    }
   ],
   "source": [
    "# question: Accept from user lectures conducted by Faculty and lectures attended by student.Display whether student gets CNG if attendance percentage is less than 75\n",
    "lecture_atten=int(input(\"enter the lecture attended\"))\n",
    "lecture_con=int(input(\"enter the lecture conducted\"))\n",
    "attendence_percentage=(lecture_atten*100)/lecture_con\n",
    "print(attendence_percentage)\n",
    "\n",
    "if attendence_percentage < 75:\n",
    "    print(\"not eligible for th exam\")\n",
    "else:\n",
    "    print(\"eligible\")\n"
   ]
  },
  {
   "cell_type": "code",
   "execution_count": 4,
   "metadata": {},
   "outputs": [
    {
     "output_type": "stream",
     "name": "stdout",
     "text": [
      "2 digit number 50\n"
     ]
    }
   ],
   "source": [
    "# question 2. write a python code to accept a number from user and check whether it is 2 digit number or not.\n",
    "n=int(input(\"enter the number\"))\n",
    "if n>9 and n<100:\n",
    "    print(\"2 digit number\",n)\n",
    "elif n>=100:\n",
    "    print(\"its a three digit number\",n)\n",
    "elif n <=9:\n",
    "    print(\"its a one digit number\",n)\n",
    "else:\n",
    "    print(\"not a 2 digit number\",n)"
   ]
  },
  {
   "source": [
    "# 19 APRIL"
   ],
   "cell_type": "markdown",
   "metadata": {}
  },
  {
   "cell_type": "code",
   "execution_count": 90,
   "metadata": {},
   "outputs": [
    {
     "output_type": "stream",
     "name": "stdout",
     "text": [
      "he is eligible to vote 18\n"
     ]
    }
   ],
   "source": [
    "# Q.write a python code to accept an age of student and check whether he is eligible to vote , age 18 eligible to vote\n",
    "age=int(input(\"enter the age\"))\n",
    "if age>=18:\n",
    "    print(\"he is eligible to vote\",age)\n",
    "elif age<18:\n",
    "    print(\"under age\",age)\n",
    "else:\n",
    "    print(\"he is not eligible\",age)\n"
   ]
  },
  {
   "cell_type": "code",
   "execution_count": 95,
   "metadata": {},
   "outputs": [
    {
     "output_type": "stream",
     "name": "stdout",
     "text": [
      "welcome\n"
     ]
    }
   ],
   "source": [
    "# Q.write a python code read username and password and check if user is valid or not\n",
    "#username \"Msc\", password \"gis\"\n",
    "user=\"Msc\"\n",
    "password=\"gis\"\n",
    "username=input(\"enter the user name\")\n",
    "if username==user:\n",
    "    a=input(\"enter the password\")\n",
    "    if a==password:\n",
    "        print(\"welcome\")\n",
    "    else:\n",
    "        print(\"that is wrong password\")\n",
    "else:\n",
    "        print(\"that is wrong username\")\n",
    "\n"
   ]
  },
  {
   "cell_type": "code",
   "execution_count": 102,
   "metadata": {},
   "outputs": [
    {
     "output_type": "stream",
     "name": "stdout",
     "text": [
      "age error\n"
     ]
    }
   ],
   "source": [
    "#Q1. Write a Python Code to ask user to enter age, sex ( M or F ), marital status ( Y or N ) and then using following rules print their place of service.\n",
    "#if employee is female, then she will work only in urban areas.\n",
    "#if employee is a male and age is in between 20 to 40 then he may work in anywhere\n",
    "#if employee is male and age is in between 40 t0 60 then he will work in urban areas only.\n",
    "#And any other input of age should print \"ERROR\".\n",
    "\n",
    "age=int(input(\"enter the age\"))\n",
    "sex=input(\"enter sex[male/female]\")\n",
    "if sex==\"F\":\n",
    "    print(\"she will work only in urban areas\")\n",
    "elif sex==\"M\" and 20<age<40:\n",
    "    print(\"he may work anywhere\")\n",
    "elif sex==\"M\" and 40<age<60:\n",
    "    print(\"he will work  in urban areas only\")\n",
    "else:\n",
    "    print(\"age error\")"
   ]
  },
  {
   "source": [
    "# 27 APRIL"
   ],
   "cell_type": "markdown",
   "metadata": {}
  },
  {
   "source": [
    "### Write a Python  code that calculates the commission for a sales person depending on the volume of sales he achieves.For a sales figure of 4000, he gets 20% commission.For 8000 he gets 40% andfor 12000 and more  he gets 50% commission.If he is not able to achieve the minimum target of 4000,he shall be given a fixed commission of Rs.500."
   ],
   "cell_type": "markdown",
   "metadata": {}
  },
  {
   "cell_type": "code",
   "execution_count": 1,
   "metadata": {},
   "outputs": [
    {
     "output_type": "error",
     "ename": "ValueError",
     "evalue": "invalid literal for int() with base 10: ''",
     "traceback": [
      "\u001b[1;31m---------------------------------------------------------------------------\u001b[0m",
      "\u001b[1;31mValueError\u001b[0m                                Traceback (most recent call last)",
      "\u001b[1;32m<ipython-input-1-f1f3420a3668>\u001b[0m in \u001b[0;36m<module>\u001b[1;34m\u001b[0m\n\u001b[1;32m----> 1\u001b[1;33m \u001b[0msales\u001b[0m\u001b[1;33m=\u001b[0m\u001b[0mint\u001b[0m\u001b[1;33m(\u001b[0m\u001b[0minput\u001b[0m\u001b[1;33m(\u001b[0m\u001b[1;34m\"enter the sales\"\u001b[0m\u001b[1;33m)\u001b[0m\u001b[1;33m)\u001b[0m\u001b[1;33m\u001b[0m\u001b[1;33m\u001b[0m\u001b[0m\n\u001b[0m\u001b[0;32m      2\u001b[0m \u001b[1;32mif\u001b[0m \u001b[0msales\u001b[0m\u001b[1;33m>=\u001b[0m\u001b[1;36m4000\u001b[0m \u001b[1;32mand\u001b[0m \u001b[0msales\u001b[0m\u001b[1;33m<\u001b[0m\u001b[1;36m8000\u001b[0m\u001b[1;33m:\u001b[0m\u001b[1;33m\u001b[0m\u001b[1;33m\u001b[0m\u001b[0m\n\u001b[0;32m      3\u001b[0m     \u001b[0mcom\u001b[0m\u001b[1;33m=\u001b[0m\u001b[1;33m(\u001b[0m\u001b[0msales\u001b[0m\u001b[1;33m/\u001b[0m\u001b[1;36m100\u001b[0m\u001b[1;33m)\u001b[0m\u001b[1;33m*\u001b[0m\u001b[1;36m20\u001b[0m\u001b[1;33m\u001b[0m\u001b[1;33m\u001b[0m\u001b[0m\n\u001b[0;32m      4\u001b[0m     \u001b[0mprint\u001b[0m\u001b[1;33m(\u001b[0m\u001b[1;34m\"your commission is 20%\"\u001b[0m\u001b[1;33m,\u001b[0m\u001b[0mcom\u001b[0m\u001b[1;33m)\u001b[0m\u001b[1;33m\u001b[0m\u001b[1;33m\u001b[0m\u001b[0m\n\u001b[0;32m      5\u001b[0m \u001b[1;32melif\u001b[0m \u001b[0msales\u001b[0m\u001b[1;33m>=\u001b[0m\u001b[1;36m8000\u001b[0m \u001b[1;32mand\u001b[0m \u001b[0msales\u001b[0m\u001b[1;33m<\u001b[0m\u001b[1;36m12000\u001b[0m\u001b[1;33m:\u001b[0m\u001b[1;33m\u001b[0m\u001b[1;33m\u001b[0m\u001b[0m\n",
      "\u001b[1;31mValueError\u001b[0m: invalid literal for int() with base 10: ''"
     ]
    }
   ],
   "source": [
    "\n",
    "\n",
    "sales=int(input(\"enter the sales\"))\n",
    "if sales>=4000 and sales<8000:\n",
    "    com=(sales/100)*20\n",
    "    print(\"your commission is 20%\",com)\n",
    "elif sales>=8000 and sales<12000:\n",
    "    com=(sales/100)*40\n",
    "    print(\"your commission is 40%\",com)\n",
    "elif sales>=12000:\n",
    "    com=(sales/100)*50\n",
    "    print(\"your commission is 50%\",com)\n",
    "else:\n",
    "    print(\" he is not able to achieve the minimum target of 4000,he shall be given a fixed commission of Rs.500.\")"
   ]
  },
  {
   "cell_type": "code",
   "execution_count": 112,
   "metadata": {},
   "outputs": [
    {
     "output_type": "stream",
     "name": "stdout",
     "text": [
      "temperature is above boiling point\n"
     ]
    }
   ],
   "source": [
    "#question:ask the user to enter a temperature in Celsius.the program should print a message based on the temperature:\n",
    "#if the temperature is less than -273.15,print that the temperature is invalid because it is below absolute zero.\n",
    "#if it is exactly -273.15,print that the temperature is absolute 0.\n",
    "#if the temperature is between -273.15 and 0,print that the temperature is below freezing.\n",
    "#if it is 0,print that the temperature is at the freezing point\n",
    "#if it is between 0and 100,print that the temperature is in the normal range\n",
    "#if it is 100,print that the temperature is at boiling point\n",
    "#if it is above 100,print temperature is above boiling point\n",
    "temp=int(input(\"enter the temperature in C\"))\n",
    "if temp < -273.15:\n",
    "    print(\"the temperature is invalid because it is below absolute zero.\")\n",
    "elif temp == -273.15:\n",
    "    print(\"the temperature is absolute 0.\")\n",
    "elif temp <=0 and temp >-273.15:\n",
    "    print(\"the temperature is at the freezing point\")\n",
    "elif temp>0 and temp <100:\n",
    "    print(\"the temperature is in the normal range\")\n",
    "elif temp==100:\n",
    "    print(\"the temperature is at boiling point\")\n",
    "else:\n",
    "    print(\"temperature is above boiling point\")"
   ]
  },
  {
   "source": [
    "# 29 APRIL WHILE LOOP"
   ],
   "cell_type": "markdown",
   "metadata": {}
  },
  {
   "cell_type": "code",
   "execution_count": 16,
   "metadata": {
    "tags": []
   },
   "outputs": [
    {
     "output_type": "stream",
     "name": "stdout",
     "text": [
      "hello 100\nhello 101\nhello 102\nhello 103\nhello 104\nhello 105\nhello 106\nhello 107\nhello 108\nhello 109\nhello 110\nhello 111\nhello 112\nhello 113\nhello 114\nhello 115\nhello 116\nhello 117\nhello 118\nhello 119\nhello 120\nhello 121\nhello 122\nhello 123\nhello 124\nhello 125\nhello 126\nhello 127\nhello 128\nhello 129\nhello 130\nhello 131\nhello 132\nhello 133\nhello 134\nhello 135\nhello 136\nhello 137\nhello 138\nhello 139\nhello 140\nhello 141\nhello 142\nhello 143\nhello 144\nhello 145\nhello 146\nhello 147\nhello 148\nhello 149\nhello 150\nhello 151\nhello 152\nhello 153\nhello 154\nhello 155\nhello 156\nhello 157\nhello 158\nhello 159\nhello 160\nhello 161\nhello 162\nhello 163\nhello 164\nhello 165\nhello 166\nhello 167\nhello 168\nhello 169\nhello 170\nhello 171\nhello 172\nhello 173\nhello 174\nhello 175\nhello 176\nhello 177\nhello 178\nhello 179\nhello 180\nhello 181\nhello 182\nhello 183\nhello 184\nhello 185\nhello 186\nhello 187\nhello 188\nhello 189\nhello 190\nhello 191\nhello 192\nhello 193\nhello 194\nhello 195\nhello 196\nhello 197\nhello 198\nhello 199\nhello 200\noutside loop\n"
     ]
    }
   ],
   "source": [
    "\n",
    "n= 100\n",
    "\n",
    "while n<=200:\n",
    "    print(\"hello\",n)\n",
    "    n=n+1\n",
    "print(\"outside loop\")"
   ]
  },
  {
   "cell_type": "code",
   "execution_count": 13,
   "metadata": {},
   "outputs": [
    {
     "output_type": "stream",
     "name": "stdout",
     "text": [
      "hello 200\nhello 202\nhello 204\nhello 206\nhello 208\nhello 210\nhello 212\nhello 214\nhello 216\nhello 218\nhello 220\nhello 222\nhello 224\nhello 226\nhello 228\nhello 230\nhello 232\nhello 234\nhello 236\nhello 238\nhello 240\nhello 242\nhello 244\nhello 246\nhello 248\nhello 250\nhello 252\nhello 254\nhello 256\nhello 258\nhello 260\nhello 262\nhello 264\nhello 266\nhello 268\nhello 270\nhello 272\nhello 274\nhello 276\nhello 278\nhello 280\nhello 282\nhello 284\nhello 286\nhello 288\nhello 290\nhello 292\nhello 294\nhello 296\nhello 298\nhello 300\n"
     ]
    }
   ],
   "source": [
    "num=200\n",
    "while num <=300:\n",
    "    print(\"hello\",num)\n",
    "    num=num+2"
   ]
  },
  {
   "source": [
    "# 4th MAY"
   ],
   "cell_type": "markdown",
   "metadata": {}
  },
  {
   "cell_type": "code",
   "execution_count": 17,
   "metadata": {},
   "outputs": [
    {
     "output_type": "stream",
     "name": "stdout",
     "text": [
      "number in reverse order 10\nnumber in reverse order 9\nnumber in reverse order 8\nnumber in reverse order 7\nnumber in reverse order 6\nnumber in reverse order 5\nnumber in reverse order 4\nnumber in reverse order 3\nnumber in reverse order 2\n"
     ]
    }
   ],
   "source": [
    "#Write a python code to display 10 to 1 numbers in reverse order\n",
    "num=10\n",
    "while num>1:\n",
    "    print(\"number in reverse order\",num)\n",
    "    num=num-1\n",
    "    "
   ]
  },
  {
   "cell_type": "code",
   "execution_count": 18,
   "metadata": {},
   "outputs": [
    {
     "output_type": "stream",
     "name": "stdout",
     "text": [
      "500\n505\n510\n515\n520\n525\n530\n535\n540\n545\n550\n555\n560\n565\n570\n575\n580\n585\n590\n595\n600\n605\n610\n615\n620\n625\n630\n635\n640\n645\n650\n655\n660\n665\n670\n675\n680\n685\n690\n695\n700\n705\n710\n715\n720\n725\n730\n735\n740\n745\n750\n755\n760\n765\n770\n775\n780\n785\n790\n795\n800\n805\n810\n815\n820\n825\n830\n835\n840\n845\n850\n855\n860\n865\n870\n875\n880\n885\n890\n895\n900\n905\n910\n915\n920\n925\n930\n935\n940\n945\n950\n955\n960\n965\n970\n975\n980\n985\n990\n995\n1000\n"
     ]
    }
   ],
   "source": [
    "#Write a Python code to display every 5th number between 500 to 1000\n",
    "num= 500\n",
    "while num<=1000:\n",
    "    print(num)\n",
    "    num=num+5\n"
   ]
  },
  {
   "cell_type": "code",
   "execution_count": 23,
   "metadata": {},
   "outputs": [
    {
     "output_type": "stream",
     "name": "stdout",
     "text": [
      "100\n101\n102\n103\n104\n105\n106\n107\n108\n109\n110\n"
     ]
    }
   ],
   "source": [
    "#write a python code to accept the two numbers and display all the numbers between those two numbers\n",
    "#accept two numbers\n",
    "num1=int(input(\"enter the 1st number\"))\n",
    "num2=int(input(\"enter the 2nd number\"))\n",
    "\n",
    "while num1 <= num2:\n",
    "    print(num1)\n",
    "    num1=num1+1\n"
   ]
  },
  {
   "cell_type": "code",
   "execution_count": 29,
   "metadata": {
    "tags": []
   },
   "outputs": [],
   "source": [
    "#4. Write a python code to accept a number from user and print all the even numbers between 1 to that number.For example if number is 25 then print all the even numbers between 1 to 25\n",
    "num1=50\n",
    "num2=int(input(\"enter the number\"))\n",
    "while num1 >= num2:\n",
    "            print(num1)\n",
    "            num1= num1+2"
   ]
  },
  {
   "cell_type": "code",
   "execution_count": 30,
   "metadata": {},
   "outputs": [
    {
     "output_type": "stream",
     "name": "stdout",
     "text": [
      "5 5\n5 10\n5 15\n5 20\n5 25\n5 30\n5 35\n5 40\n5 45\n5 50\n"
     ]
    }
   ],
   "source": [
    "#Write a python code to accept a number and print the table of that number.\n",
    "i=1\n",
    "num1=int(input(\"enter the number\"))\n",
    "while i<=10:\n",
    "    print(num1*i)\n",
    "    i=i+1 "
   ]
  },
  {
   "source": [
    "# 6th MAY"
   ],
   "cell_type": "markdown",
   "metadata": {}
  },
  {
   "cell_type": "code",
   "execution_count": 31,
   "metadata": {},
   "outputs": [
    {
     "output_type": "stream",
     "name": "stdout",
     "text": [
      "1 100\n2 101\n3 102\n4 103\n5 104\n6 105\n7 106\n8 107\n9 108\n10 109\n11 110\n12 111\n13 112\n14 113\n15 114\n16 115\n17 116\n18 117\n19 118\n20 119\n21 120\n22 121\n23 122\n24 123\n25 124\n26 125\n27 126\n28 127\n29 128\n30 129\n31 130\n32 131\n33 132\n34 133\n35 134\n36 135\n37 136\n38 137\n39 138\n40 139\n41 140\n42 141\n43 142\n44 143\n45 144\n46 145\n47 146\n48 147\n49 148\n50 149\n51 150\n52 151\n53 152\n54 153\n55 154\n56 155\n57 156\n58 157\n59 158\n60 159\n61 160\n62 161\n63 162\n64 163\n65 164\n66 165\n67 166\n68 167\n69 168\n70 169\n71 170\n72 171\n73 172\n74 173\n75 174\n76 175\n77 176\n78 177\n79 178\n80 179\n81 180\n82 181\n83 182\n84 183\n85 184\n86 185\n87 186\n88 187\n89 188\n90 189\n91 190\n92 191\n93 192\n94 193\n95 194\n96 195\n97 196\n98 197\n99 198\n100 199\n101 200\n"
     ]
    }
   ],
   "source": [
    "#class: repetative addition(count).find the count number between 100 to 175\n",
    "start=100\n",
    "count=0\n",
    "\n",
    "while start<=200:\n",
    "    count=count+1\n",
    "    print(count,start)\n",
    "    start=start+1"
   ]
  },
  {
   "cell_type": "code",
   "execution_count": 35,
   "metadata": {},
   "outputs": [
    {
     "output_type": "stream",
     "name": "stdout",
     "text": [
      "50 50\n101 51\n153 52\n206 53\n260 54\n315 55\n371 56\n428 57\n486 58\n545 59\n605 60\n605\n"
     ]
    }
   ],
   "source": [
    "#repetative addition\n",
    "start=50\n",
    "addition=0\n",
    "\n",
    "while start<=60:\n",
    "    addition=addition+start\n",
    "    print(addition,start)\n",
    "    start=start+1\n",
    "print(addition)"
   ]
  },
  {
   "cell_type": "code",
   "execution_count": 2,
   "metadata": {},
   "outputs": [
    {
     "output_type": "stream",
     "name": "stdout",
     "text": [
      "mango\napple\nchiku\n"
     ]
    }
   ],
   "source": [
    "#code to access values of list\n",
    "mylist=[\"mango\",\"banana\",\"apple\",\"grapes\",\"chiku\"]\n",
    "index=0\n",
    "while index<6:\n",
    "     print(mylist[index])\n",
    "     index =index+2"
   ]
  },
  {
   "cell_type": "code",
   "execution_count": 1,
   "metadata": {},
   "outputs": [
    {
     "output_type": "stream",
     "name": "stdout",
     "text": [
      "1\n"
     ]
    }
   ],
   "source": [
    "name=\"dahod\"\n",
    "print(name.count(\"a\"))"
   ]
  },
  {
   "cell_type": "code",
   "execution_count": null,
   "metadata": {},
   "outputs": [],
   "source": []
  }
 ]
}